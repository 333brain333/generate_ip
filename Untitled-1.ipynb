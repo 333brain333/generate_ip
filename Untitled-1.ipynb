{
 "cells": [
  {
   "cell_type": "code",
   "execution_count": 26,
   "metadata": {},
   "outputs": [
    {
     "name": "stdout",
     "output_type": "stream",
     "text": [
      "None\n",
      "Устройство           lksjdfsd\n",
      "MAC адрес                 sdf\n",
      "IP                192.168.4.7\n",
      "Описание                   sd\n",
      "Ответственный             fsd\n",
      "Серийный номер             fs\n",
      "Name: 77, dtype: object\n"
     ]
    },
    {
     "data": {
      "text/plain": [
       "True"
      ]
     },
     "execution_count": 26,
     "metadata": {},
     "output_type": "execute_result"
    }
   ],
   "source": [
    "import pandas as pd\n",
    "reserved=pd.read_csv('/home/andrey/Documents/generate_ip/reserved_list.csv')\n",
    "df = reserved\n",
    "print(list(reserved.loc[:,'IP']).append('192.168.4.1'))\n",
    "print(df.loc[df.shape[0]-1])\n",
    "df.loc[df.shape[0]] = ['', 'next_','','','','']\n",
    "#df.drop(df[df[\"IP\"]==\"192.168.4.1\"].index, inplace=True)\n",
    "'192.168.4.1' in df.loc[:,'IP'].values"
   ]
  },
  {
   "cell_type": "code",
   "execution_count": 15,
   "metadata": {},
   "outputs": [],
   "source": [
    "from ipaddress import IPv4Network"
   ]
  }
 ],
 "metadata": {
  "interpreter": {
   "hash": "31f2aee4e71d21fbe5cf8b01ff0e069b9275f58929596ceb00d14d90e3e16cd6"
  },
  "kernelspec": {
   "display_name": "Python 3.6.9 64-bit",
   "language": "python",
   "name": "python3"
  },
  "language_info": {
   "codemirror_mode": {
    "name": "ipython",
    "version": 3
   },
   "file_extension": ".py",
   "mimetype": "text/x-python",
   "name": "python",
   "nbconvert_exporter": "python",
   "pygments_lexer": "ipython3",
   "version": "3.6.9"
  },
  "orig_nbformat": 4
 },
 "nbformat": 4,
 "nbformat_minor": 2
}
